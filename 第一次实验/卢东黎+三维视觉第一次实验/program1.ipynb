{
 "cells": [
  {
   "cell_type": "markdown",
   "id": "fbe9f555",
   "metadata": {},
   "source": [
    "# 三维视觉与理解课程\n",
    "## 实验一\n",
    "## 一、实验任务"
   ]
  },
  {
   "cell_type": "markdown",
   "id": "5c6a3ad9",
   "metadata": {},
   "source": [
    "# 环境配置"
   ]
  },
  {
   "cell_type": "code",
   "execution_count": 74,
   "id": "d2a0da9e",
   "metadata": {},
   "outputs": [
    {
     "name": "stdout",
     "output_type": "stream",
     "text": [
      "^C\n"
     ]
    }
   ],
   "source": [
    "!pip install open3d"
   ]
  },
  {
   "cell_type": "code",
   "execution_count": 1,
   "id": "919e42b9",
   "metadata": {
    "ExecuteTime": {
     "end_time": "2024-04-24T10:47:02.390857400Z",
     "start_time": "2024-04-24T10:47:01.427460400Z"
    }
   },
   "outputs": [
    {
     "name": "stdout",
     "output_type": "stream",
     "text": [
      "Jupyter environment detected. Enabling Open3D WebVisualizer.\n",
      "[Open3D INFO] WebRTC GUI backend enabled.\n",
      "[Open3D INFO] WebRTCWindowSystem: HTTP handshake server disabled.\n"
     ]
    }
   ],
   "source": [
    "import open3d as o3d\n",
    "import copy #点云拷贝库\n",
    "import numpy as np"
   ]
  },
  {
   "cell_type": "markdown",
   "id": "b9e7c360",
   "metadata": {},
   "source": [
    "# 点云读写与可视化"
   ]
  },
  {
   "cell_type": "code",
   "execution_count": 3,
   "id": "334f045b",
   "metadata": {},
   "outputs": [
    {
     "name": "stdout",
     "output_type": "stream",
     "text": [
      "原始点云： PointCloud with 460400 points.\n"
     ]
    }
   ],
   "source": [
    "#读点云：从文件路径处读取pcd格式的点云文件（table.pcd）\n",
    "point_cloud = o3d.io.read_point_cloud(\"table.pcd\")\n",
    "\n",
    "#查看点云中，点的个数\n",
    "print(\"原始点云：\",point_cloud)"
   ]
  },
  {
   "cell_type": "code",
   "execution_count": 4,
   "id": "10fc7fc2",
   "metadata": {},
   "outputs": [],
   "source": [
    "# 将点云复制，并将复制后的点云在x方向上平移若干个单位\n",
    "o3d.visualization.draw_geometries([point_cloud],window_name=\"task1\")\n",
    "point_cloud_copy = copy.deepcopy(point_cloud).translate((50.0,0.0,0.0))\n",
    "o3d.visualization.draw_geometries([point_cloud_copy],window_name=\"task2\")"
   ]
  },
  {
   "cell_type": "markdown",
   "id": "f53315a9",
   "metadata": {},
   "source": [
    "<img src=\"img/1平移.png\"> </img>"
   ]
  },
  {
   "cell_type": "code",
   "execution_count": 6,
   "id": "c4e231fa",
   "metadata": {},
   "outputs": [
    {
     "name": "stdout",
     "output_type": "stream",
     "text": [
      "合并后的点云： PointCloud with 920800 points.\n"
     ]
    }
   ],
   "source": [
    "# 将复制后的点云统一染成任意颜色(与之前颜色不同)\n",
    "point_cloud_copy.paint_uniform_color([0,0,1.0])\n",
    "o3d.visualization.draw_geometries([point_cloud_copy],window_name=\"task1\")\n",
    "\n",
    "# 将染色后点云与原始点云合并为一个点云(相加)，并显示。\n",
    "multi_point_cloud = point_cloud_copy + point_cloud\n",
    "print(\"合并后的点云：\",multi_point_cloud)\n",
    "o3d.visualization.draw_geometries([multi_point_cloud],window_name=\"task1\")"
   ]
  },
  {
   "cell_type": "markdown",
   "id": "5335ebd5",
   "metadata": {},
   "source": [
    "<img src =\"img/1染色.png\"> </img>"
   ]
  },
  {
   "cell_type": "markdown",
   "id": "e80a2927",
   "metadata": {},
   "source": [
    "<img src = \"img/1合并后的点云.png\"> </img>"
   ]
  },
  {
   "cell_type": "code",
   "execution_count": 34,
   "id": "cb0b427b",
   "metadata": {},
   "outputs": [
    {
     "data": {
      "text/plain": [
       "True"
      ]
     },
     "execution_count": 34,
     "metadata": {},
     "output_type": "execute_result"
    }
   ],
   "source": [
    "# 写点云：将合并后的点云保存在桌面位置，命名为t1.pcd\n",
    "o3d.io.write_point_cloud('t1.pcd', multi_point_cloud)"
   ]
  },
  {
   "cell_type": "markdown",
   "id": "256a72e5",
   "metadata": {},
   "source": [
    "## 点云的体素化"
   ]
  },
  {
   "cell_type": "code",
   "execution_count": 61,
   "id": "99a58b4d",
   "metadata": {},
   "outputs": [
    {
     "name": "stdout",
     "output_type": "stream",
     "text": [
      "斯坦福兔子点云个数: PointCloud with 397 points.\n",
      "VoxelGrid with 7 voxels.\n"
     ]
    }
   ],
   "source": [
    "#以斯坦福兔子点云（bunny.pcd）为基础，生成点云体素化之后的数据\n",
    "bunny = o3d.io.read_point_cloud(\"bunny.pcd\")\n",
    "print(\"斯坦福兔子点云个数:\",bunny)\n",
    "\n",
    "bunny_3D = o3d.geometry.VoxelGrid.create_from_point_cloud(bunny,voxel_size=0.1)\n",
    "\n",
    "print(bunny_3D)\n",
    "\n",
    "o3d.visualization.draw_geometries([bunny_3D],window_name=\"task2\")"
   ]
  },
  {
   "cell_type": "markdown",
   "id": "987c46b4",
   "metadata": {},
   "source": [
    "<img src=\"img/2点云体素化.png\"> </img>"
   ]
  },
  {
   "cell_type": "code",
   "execution_count": 62,
   "id": "6cfeb577",
   "metadata": {},
   "outputs": [
    {
     "name": "stdout",
     "output_type": "stream",
     "text": [
      "当前VixelSize为:0.01, VoxelGrid with 333 voxels.\n",
      "当前VixelSize为:0.04, VoxelGrid with 34 voxels.\n",
      "当前VixelSize为:0.07, VoxelGrid with 15 voxels.\n",
      "当前VixelSize为:0.1, VoxelGrid with 7 voxels.\n",
      "[Open3D WARNING] [ViewControl] SetViewPoint() failed because window height and width are not set.\n"
     ]
    }
   ],
   "source": [
    "# 调整voxel_size，分别令其取值为0.01、0.04、0.07与0.1，并将体素化的结果进行展示。\n",
    "\n",
    "vixel_size = [0.01,0.04,0.07,0.1]\n",
    "\n",
    "for v_size in vixel_size:\n",
    "    b = o3d.geometry.VoxelGrid.create_from_point_cloud(bunny,voxel_size=v_size)\n",
    "    print(f\"当前VixelSize为:{v_size}, {b}\")\n",
    "    o3d.visualization.draw_geometries([b],window_name=\"task\")"
   ]
  },
  {
   "cell_type": "markdown",
   "id": "c4d647ab",
   "metadata": {},
   "source": [
    "<img src = \"img/3点云体素化调整.png\"> </img>"
   ]
  },
  {
   "cell_type": "markdown",
   "id": "4f812666",
   "metadata": {},
   "source": [
    "请回答：结合可视化实验结结果，用自己的语言描述，点云体素化是什么意思？\n",
    "\n",
    "    体素是什么？体素即体积像素。二维图片最小单元是像素，对应到三位空间最小单元即体素。点云体素化，即把每个拥有三个坐标值的点云映射成单个体素。点云数据三维格网化通常用于基于体素的深度学习数据预处理、局部相对特征计算以及投影。"
   ]
  },
  {
   "cell_type": "markdown",
   "id": "9a27ab2c",
   "metadata": {},
   "source": [
    "请回答：Voxel_size参数在点云体素化中起到了什么作用？\n",
    "\n",
    "    Voxel_size是体素网格的分辨率，分辨率越高(voxel_size数低)体素化后的图形越接近真实形状，分辨率越低(比如上图0.1)体素化后的形状越接近方块，越抽象。"
   ]
  },
  {
   "cell_type": "markdown",
   "id": "d9633521",
   "metadata": {},
   "source": [
    "## 代码解读练习\n",
    "\n",
    "color.py代码中，实现了以点云（maize.pcd）坐标为依据，对点云进行渐变式赋色。请结合代码内容、可视化结果、控制台输出等"
   ]
  },
  {
   "cell_type": "code",
   "execution_count": 47,
   "id": "717dacd6",
   "metadata": {},
   "outputs": [
    {
     "name": "stdout",
     "output_type": "stream",
     "text": [
      "点云矩阵\n",
      "[[ 7.0967999  -4.8207002   0.4303    ]\n",
      " [ 7.0918002  -4.8204002   0.43009999]\n",
      " [ 7.0840001  -4.8213      0.4298    ]\n",
      " ...\n",
      " [ 6.2782998  -3.3692999  -1.6933    ]\n",
      " [ 6.2722001  -3.3685999  -1.692     ]\n",
      " [ 6.2512002  -3.3620999  -1.6869    ]]\n"
     ]
    }
   ],
   "source": [
    "#读文件\n",
    "cloud = o3d.io.read_point_cloud(\"maize.pcd\")\n",
    "\n",
    "#调颜色：绿色\n",
    "cloud.paint_uniform_color([0,1,0])\n",
    "\n",
    "#可视化\n",
    "o3d.visualization.draw_geometries([cloud])\n",
    "\n",
    "# 点云转换为数组\n",
    "pts = np.asarray(cloud.points)  \n",
    "print(\"点云矩阵\")\n",
    "print(pts)"
   ]
  },
  {
   "cell_type": "markdown",
   "id": "7db05426",
   "metadata": {},
   "source": [
    "<img src=\"img/4color.png\"> </img>"
   ]
  },
  {
   "cell_type": "code",
   "execution_count": 58,
   "id": "d1188fc4",
   "metadata": {},
   "outputs": [
    {
     "name": "stderr",
     "output_type": "stream",
     "text": [
      "C:\\Users\\xiandan\\AppData\\Local\\Temp\\ipykernel_8668\\3418728765.py:17: RuntimeWarning: divide by zero encountered in double_scalars\n",
      "  delta_c = abs(height_max - height_min) / (255 * avg)\n"
     ]
    },
    {
     "name": "stdout",
     "output_type": "stream",
     "text": [
      "当前axis:0,avg:0\n",
      "颜色矩阵\n",
      "[[0. 1. 1.]\n",
      " [0. 1. 1.]\n",
      " [0. 1. 1.]\n",
      " ...\n",
      " [0. 1. 1.]\n",
      " [0. 1. 1.]\n",
      " [0. 1. 1.]]\n",
      "点云矩阵+颜色矩阵\n",
      "[[ 7.0967999  -4.8207002   0.4303      0.          1.          1.        ]\n",
      " [ 7.0918002  -4.8204002   0.43009999  0.          1.          1.        ]\n",
      " [ 7.0840001  -4.8213      0.4298      0.          1.          1.        ]\n",
      " ...\n",
      " [ 6.2782998  -3.3692999  -1.6933      0.          1.          1.        ]\n",
      " [ 6.2722001  -3.3685999  -1.692       0.          1.          1.        ]\n",
      " [ 6.2512002  -3.3620999  -1.6869      0.          1.          1.        ]]\n",
      "当前axis:0,avg:1\n",
      "颜色矩阵\n",
      "[[0.         0.59816647 1.        ]\n",
      " [0.         0.60045834 1.        ]\n",
      " [0.         0.6040339  1.        ]\n",
      " ...\n",
      " [0.         0.97336709 1.        ]\n",
      " [0.         0.97616319 1.        ]\n",
      " [0.         0.98578955 1.        ]]\n",
      "点云矩阵+颜色矩阵\n",
      "[[ 7.0967999  -4.8207002   0.4303      0.          0.59816647  1.        ]\n",
      " [ 7.0918002  -4.8204002   0.43009999  0.          0.60045834  1.        ]\n",
      " [ 7.0840001  -4.8213      0.4298      0.          0.6040339   1.        ]\n",
      " ...\n",
      " [ 6.2782998  -3.3692999  -1.6933      0.          0.97336709  1.        ]\n",
      " [ 6.2722001  -3.3685999  -1.692       0.          0.97616319  1.        ]\n",
      " [ 6.2512002  -3.3620999  -1.6869      0.          0.98578955  1.        ]]\n",
      "当前axis:0,avg:2\n",
      "颜色矩阵\n",
      "[[0.         0.19633295 1.        ]\n",
      " [0.         0.20091667 1.        ]\n",
      " [0.         0.20806781 1.        ]\n",
      " ...\n",
      " [0.         0.94673417 1.        ]\n",
      " [0.         0.95232638 1.        ]\n",
      " [0.         0.9715791  1.        ]]\n",
      "点云矩阵+颜色矩阵\n",
      "[[ 7.0967999  -4.8207002   0.4303      0.          0.19633295  1.        ]\n",
      " [ 7.0918002  -4.8204002   0.43009999  0.          0.20091667  1.        ]\n",
      " [ 7.0840001  -4.8213      0.4298      0.          0.20806781  1.        ]\n",
      " ...\n",
      " [ 6.2782998  -3.3692999  -1.6933      0.          0.94673417  1.        ]\n",
      " [ 6.2722001  -3.3685999  -1.692       0.          0.95232638  1.        ]\n",
      " [ 6.2512002  -3.3620999  -1.6869      0.          0.9715791   1.        ]]\n",
      "当前axis:0,avg:3\n",
      "颜色矩阵\n",
      "[[0.20550058 0.         1.        ]\n",
      " [0.19862499 0.         1.        ]\n",
      " [0.18789829 0.         1.        ]\n",
      " ...\n",
      " [0.         0.92010126 1.        ]\n",
      " [0.         0.92848957 1.        ]\n",
      " [0.         0.95736864 1.        ]]\n",
      "点云矩阵+颜色矩阵\n",
      "[[ 7.0967999  -4.8207002   0.4303      0.20550058  0.          1.        ]\n",
      " [ 7.0918002  -4.8204002   0.43009999  0.19862499  0.          1.        ]\n",
      " [ 7.0840001  -4.8213      0.4298      0.18789829  0.          1.        ]\n",
      " ...\n",
      " [ 6.2782998  -3.3692999  -1.6933      0.          0.92010126  1.        ]\n",
      " [ 6.2722001  -3.3685999  -1.692       0.          0.92848957  1.        ]\n",
      " [ 6.2512002  -3.3620999  -1.6869      0.          0.95736864  1.        ]]\n",
      "当前axis:1,avg:0\n",
      "颜色矩阵\n",
      "[[0. 1. 1.]\n",
      " [0. 1. 1.]\n",
      " [0. 1. 1.]\n",
      " ...\n",
      " [0. 1. 1.]\n",
      " [0. 1. 1.]\n",
      " [0. 1. 1.]]\n",
      "点云矩阵+颜色矩阵\n",
      "[[ 7.0967999  -4.8207002   0.4303      0.          1.          1.        ]\n",
      " [ 7.0918002  -4.8204002   0.43009999  0.          1.          1.        ]\n",
      " [ 7.0840001  -4.8213      0.4298      0.          1.          1.        ]\n",
      " ...\n",
      " [ 6.2782998  -3.3692999  -1.6933      0.          1.          1.        ]\n",
      " [ 6.2722001  -3.3685999  -1.692       0.          1.          1.        ]\n",
      " [ 6.2512002  -3.3620999  -1.6869      0.          1.          1.        ]]\n",
      "当前axis:1,avg:1\n",
      "颜色矩阵\n",
      "[[0.         0.77777796 1.        ]\n",
      " [0.         0.77761831 1.        ]\n",
      " [0.         0.77809713 1.        ]\n",
      " ...\n",
      " [0.         0.00542774 1.        ]\n",
      " [0.         0.00505524 1.        ]\n",
      " [0.         0.00159632 1.        ]]\n",
      "点云矩阵+颜色矩阵\n",
      "[[ 7.09679990e+00 -4.82070020e+00  4.30300000e-01  0.00000000e+00\n",
      "   7.77777955e-01  1.00000000e+00]\n",
      " [ 7.09180020e+00 -4.82040020e+00  4.30099990e-01  0.00000000e+00\n",
      "   7.77618313e-01  1.00000000e+00]\n",
      " [ 7.08400010e+00 -4.82130000e+00  4.29800000e-01  0.00000000e+00\n",
      "   7.78097134e-01  1.00000000e+00]\n",
      " ...\n",
      " [ 6.27829980e+00 -3.36929990e+00 -1.69330000e+00  0.00000000e+00\n",
      "   5.42773607e-03  1.00000000e+00]\n",
      " [ 6.27220010e+00 -3.36859990e+00 -1.69200000e+00  0.00000000e+00\n",
      "   5.05523708e-03  1.00000000e+00]\n",
      " [ 6.25120020e+00 -3.36209990e+00 -1.68690000e+00  0.00000000e+00\n",
      "   1.59631784e-03  1.00000000e+00]]\n",
      "[Open3D WARNING] [ViewControl] SetViewPoint() failed because window height and width are not set.\n",
      "当前axis:1,avg:2\n",
      "颜色矩阵\n",
      "[[0.         0.55555591 1.        ]\n",
      " [0.         0.55523663 1.        ]\n",
      " [0.         0.55619427 1.        ]\n",
      " ...\n",
      " [0.98914453 0.         1.        ]\n",
      " [0.98988953 0.         1.        ]\n",
      " [0.99680736 0.         1.        ]]\n",
      "点云矩阵+颜色矩阵\n",
      "[[ 7.0967999  -4.8207002   0.4303      0.          0.55555591  1.        ]\n",
      " [ 7.0918002  -4.8204002   0.43009999  0.          0.55523663  1.        ]\n",
      " [ 7.0840001  -4.8213      0.4298      0.          0.55619427  1.        ]\n",
      " ...\n",
      " [ 6.2782998  -3.3692999  -1.6933      0.98914453  0.          1.        ]\n",
      " [ 6.2722001  -3.3685999  -1.692       0.98988953  0.          1.        ]\n",
      " [ 6.2512002  -3.3620999  -1.6869      0.99680736  0.          1.        ]]\n",
      "当前axis:1,avg:3\n",
      "颜色矩阵\n",
      "[[0.         0.33333387 1.        ]\n",
      " [0.         0.33285494 1.        ]\n",
      " [0.         0.3342914  1.        ]\n",
      " ...\n",
      " [1.98371679 0.         1.        ]\n",
      " [1.98483429 0.         1.        ]\n",
      " [1.99521105 0.         1.        ]]\n",
      "点云矩阵+颜色矩阵\n",
      "[[ 7.0967999  -4.8207002   0.4303      0.          0.33333387  1.        ]\n",
      " [ 7.0918002  -4.8204002   0.43009999  0.          0.33285494  1.        ]\n",
      " [ 7.0840001  -4.8213      0.4298      0.          0.3342914   1.        ]\n",
      " ...\n",
      " [ 6.2782998  -3.3692999  -1.6933      1.98371679  0.          1.        ]\n",
      " [ 6.2722001  -3.3685999  -1.692       1.98483429  0.          1.        ]\n",
      " [ 6.2512002  -3.3620999  -1.6869      1.99521105  0.          1.        ]]\n",
      "[Open3D WARNING] [ViewControl] SetViewPoint() failed because window height and width are not set.\n",
      "当前axis:2,avg:0\n",
      "颜色矩阵\n",
      "[[0. 1. 1.]\n",
      " [0. 1. 1.]\n",
      " [0. 1. 1.]\n",
      " ...\n",
      " [0. 1. 1.]\n",
      " [0. 1. 1.]\n",
      " [0. 1. 1.]]\n",
      "点云矩阵+颜色矩阵\n",
      "[[ 7.0967999  -4.8207002   0.4303      0.          1.          1.        ]\n",
      " [ 7.0918002  -4.8204002   0.43009999  0.          1.          1.        ]\n",
      " [ 7.0840001  -4.8213      0.4298      0.          1.          1.        ]\n",
      " ...\n",
      " [ 6.2782998  -3.3692999  -1.6933      0.          1.          1.        ]\n",
      " [ 6.2722001  -3.3685999  -1.692       0.          1.          1.        ]\n",
      " [ 6.2512002  -3.3620999  -1.6869      0.          1.          1.        ]]\n",
      "[Open3D WARNING] [ViewControl] SetViewPoint() failed because window height and width are not set.\n",
      "当前axis:2,avg:1\n",
      "颜色矩阵\n",
      "[[0.00000000e+00 4.67707990e-05 1.00000000e+00]\n",
      " [0.00000000e+00 1.40307720e-04 1.00000000e+00]\n",
      " [0.00000000e+00 2.80601411e-04 1.00000000e+00]\n",
      " ...\n",
      " [0.00000000e+00 9.93172146e-01 1.00000000e+00]\n",
      " [0.00000000e+00 9.92564187e-01 1.00000000e+00]\n",
      " [0.00000000e+00 9.90179114e-01 1.00000000e+00]]\n",
      "点云矩阵+颜色矩阵\n",
      "[[ 7.09679990e+00 -4.82070020e+00  4.30300000e-01  0.00000000e+00\n",
      "   4.67707990e-05  1.00000000e+00]\n",
      " [ 7.09180020e+00 -4.82040020e+00  4.30099990e-01  0.00000000e+00\n",
      "   1.40307720e-04  1.00000000e+00]\n",
      " [ 7.08400010e+00 -4.82130000e+00  4.29800000e-01  0.00000000e+00\n",
      "   2.80601411e-04  1.00000000e+00]\n",
      " ...\n",
      " [ 6.27829980e+00 -3.36929990e+00 -1.69330000e+00  0.00000000e+00\n",
      "   9.93172146e-01  1.00000000e+00]\n",
      " [ 6.27220010e+00 -3.36859990e+00 -1.69200000e+00  0.00000000e+00\n",
      "   9.92564187e-01  1.00000000e+00]\n",
      " [ 6.25120020e+00 -3.36209990e+00 -1.68690000e+00  0.00000000e+00\n",
      "   9.90179114e-01  1.00000000e+00]]\n",
      "[Open3D WARNING] [ViewControl] SetViewPoint() failed because window height and width are not set.\n",
      "当前axis:2,avg:2\n",
      "颜色矩阵\n",
      "[[0.99990646 0.         1.        ]\n",
      " [0.99971938 0.         1.        ]\n",
      " [0.9994388  0.         1.        ]\n",
      " ...\n",
      " [0.         0.98634429 1.        ]\n",
      " [0.         0.98512837 1.        ]\n",
      " [0.         0.98035823 1.        ]]\n",
      "点云矩阵+颜色矩阵\n",
      "[[ 7.0967999  -4.8207002   0.4303      0.99990646  0.          1.        ]\n",
      " [ 7.0918002  -4.8204002   0.43009999  0.99971938  0.          1.        ]\n",
      " [ 7.0840001  -4.8213      0.4298      0.9994388   0.          1.        ]\n",
      " ...\n",
      " [ 6.2782998  -3.3692999  -1.6933      0.          0.98634429  1.        ]\n",
      " [ 6.2722001  -3.3685999  -1.692       0.          0.98512837  1.        ]\n",
      " [ 6.2512002  -3.3620999  -1.6869      0.          0.98035823  1.        ]]\n",
      "当前axis:2,avg:3\n",
      "颜色矩阵\n",
      "[[1.99985969 0.         1.        ]\n",
      " [1.99957908 0.         1.        ]\n",
      " [1.9991582  0.         1.        ]\n",
      " ...\n",
      " [0.         0.97951644 1.        ]\n",
      " [0.         0.97769256 1.        ]\n",
      " [0.         0.97053734 1.        ]]\n",
      "点云矩阵+颜色矩阵\n",
      "[[ 7.0967999  -4.8207002   0.4303      1.99985969  0.          1.        ]\n",
      " [ 7.0918002  -4.8204002   0.43009999  1.99957908  0.          1.        ]\n",
      " [ 7.0840001  -4.8213      0.4298      1.9991582   0.          1.        ]\n",
      " ...\n",
      " [ 6.2782998  -3.3692999  -1.6933      0.          0.97951644  1.        ]\n",
      " [ 6.2722001  -3.3685999  -1.692       0.          0.97769256  1.        ]\n",
      " [ 6.2512002  -3.3620999  -1.6869      0.          0.97053734  1.        ]]\n"
     ]
    },
    {
     "name": "stdout",
     "output_type": "stream",
     "text": [
      "[Open3D WARNING] [ViewControl] SetViewPoint() failed because window height and width are not set.\n"
     ]
    }
   ],
   "source": [
    "# 改变轴\n",
    "Axis = [0,1,2]  #### 按照Axis轴填颜色####\n",
    "\n",
    "# 平分程度\n",
    "Avg = [0,1,2,3]  ####调整颜色的多样性####\n",
    "\n",
    "def fun(axis,avg):\n",
    "    # 根据高度生成色彩\n",
    "    colors = np.zeros([pts.shape[0], 3])  # 生成一个空的与点云相同大小的ndarray\n",
    "\n",
    "    height_max = np.max(pts[:, axis])  # z轴最大\n",
    "\n",
    "    height_min = np.min(pts[:, axis])  # z轴最小\n",
    "\n",
    "    delta_c = abs(height_max - height_min) / (255 * avg)\n",
    "\n",
    "    for j in range(pts.shape[0]):\n",
    "        color_n = (pts[j, axis] - height_min) / delta_c\n",
    "        if color_n <= 255:\n",
    "            colors[j, :] = [0, 1 - color_n / 255, 1]\n",
    "        else:\n",
    "            colors[j, :] = [(color_n - 255) / 255, 0, 1]\n",
    "    print(f\"当前axis:{axis},avg:{avg}\")\n",
    "    print(\"颜色矩阵\")\n",
    "    print(colors)\n",
    "    print(\"点云矩阵+颜色矩阵\")\n",
    "    print(np.concatenate((pts,colors),axis=1))\n",
    "    cloud.colors = o3d.utility.Vector3dVector(colors)  # 给点云逐点赋色\n",
    "    o3d.visualization.draw_geometries([cloud])  # 可视化\n",
    "\n",
    "for axis in Axis:\n",
    "    for avg in Avg:\n",
    "        fun(axis,avg)"
   ]
  },
  {
   "cell_type": "markdown",
   "id": "345c0760",
   "metadata": {},
   "source": [
    "<img src =\"img/4变换后.png\">  </img>"
   ]
  },
  {
   "cell_type": "markdown",
   "id": "d1930bc0",
   "metadata": {},
   "source": [
    "(1)用自己的语言说明，从矩阵的角度看，点云中的每个点怎样被赋予不同颜色的？\n",
    "    \n",
    "    染色点云矩阵 = 点云矩阵 X 颜色矩阵 "
   ]
  },
  {
   "cell_type": "markdown",
   "id": "7f1f9032",
   "metadata": {},
   "source": [
    "(2)通过查阅代码，结合改变变量的实验结果，尝试阐明代码中的axis与avg变量的作用。\n",
    "\n",
    "    Axis：按照Axis轴填颜色\n",
    "    Avg：调整颜色的多样性"
   ]
  },
  {
   "cell_type": "markdown",
   "id": "9facc599",
   "metadata": {},
   "source": [
    "## 进阶任务\n",
    "\n",
    "参照color.py代码，编写程序针对maize.pcd点云实现如下操作：x坐标≤7的点染为红色、x坐标＞7但≤7.4的点染为绿色、x坐标＞7.4的点染为蓝色，并将染色后的结果进行实时显示。"
   ]
  },
  {
   "cell_type": "code",
   "execution_count": 59,
   "id": "b7ea6cd3",
   "metadata": {},
   "outputs": [
    {
     "name": "stdout",
     "output_type": "stream",
     "text": [
      "点云个数： PointCloud with 39432 points.\n"
     ]
    }
   ],
   "source": [
    "maize = o3d.io.read_point_cloud(\"maize.pcd\")\n",
    "\n",
    "print(\"点云个数：\",maize)"
   ]
  },
  {
   "cell_type": "code",
   "execution_count": 60,
   "id": "6be2a28e",
   "metadata": {},
   "outputs": [],
   "source": [
    "o3d.visualization.draw_geometries([maize])  # 可视化"
   ]
  },
  {
   "cell_type": "markdown",
   "id": "a7f66ca3",
   "metadata": {},
   "source": [
    "<img src=\"img/5原始麦子.png\"> </img>"
   ]
  },
  {
   "cell_type": "code",
   "execution_count": 68,
   "id": "39ca6926",
   "metadata": {},
   "outputs": [],
   "source": [
    "# x坐标≤7的点染为红色、x坐标＞7但≤7.4的点染为绿色、x坐标＞7.4的点染为蓝色\n",
    "\n",
    "#初始化颜色矩阵\n",
    "colors = np.zeros([len(cloud.points), 3])\n",
    "\n",
    "#修改逻辑\n",
    "for i, point in enumerate(cloud.points):\n",
    "    x_coord = point[0]\n",
    "    if x_coord <= 7:\n",
    "        colors[i] = [1, 0, 0]  #red\n",
    "    elif x_coord <= 7.4:\n",
    "        colors[i] = [0, 1, 0]  #green\n",
    "    else:\n",
    "        colors[i] = [0, 0, 1]  #blue\n",
    "\n",
    "\n",
    "cloud.colors = o3d.utility.Vector3dVector(colors)\n",
    "\n",
    "o3d.visualization.draw_geometries([cloud])"
   ]
  },
  {
   "cell_type": "markdown",
   "id": "5e4efb20",
   "metadata": {},
   "source": [
    "<img src=\"img/5换色麦子.png\"> </img>"
   ]
  },
  {
   "cell_type": "markdown",
   "id": "ed23be82",
   "metadata": {},
   "source": [
    "## 实验总结\n",
    "用自己的语言描述，点云和传统的2D图像有什么区别？从数据结构、数据特征、处理方法等角度，至少说出两点。"
   ]
  },
  {
   "cell_type": "markdown",
   "id": "fce64017",
   "metadata": {},
   "source": [
    "    数据结构方向：点云包含点的三个维度，是空间点集，基本数据单元是体素，而传统2D图形是二维的，图片是二维像素点集，基本单元是像素。\n",
    "    数据特征方面：点云3D点的集和，2D图形是2D像素点的集和。\n",
    "    处理方法方面：点云可以对三个维度方向进行操作，有空间旋转、三维平移、翻转，而图像是两个维度操作，即普通的平移变换，对称变换。"
   ]
  },
  {
   "cell_type": "code",
   "execution_count": 9,
   "id": "b70ae24c",
   "metadata": {},
   "outputs": [
    {
     "name": "stdout",
     "output_type": "stream",
     "text": [
      "[Open3D INFO]   -- Mouse view control --\n",
      "[Open3D INFO]     Left button + drag         : Rotate.\n",
      "[Open3D INFO]     Ctrl + left button + drag  : Translate.\n",
      "[Open3D INFO]     Wheel button + drag        : Translate.\n",
      "[Open3D INFO]     Shift + left button + drag : Roll.\n",
      "[Open3D INFO]     Wheel                      : Zoom in/out.\n",
      "[Open3D INFO] \n",
      "[Open3D INFO]   -- Keyboard view control --\n",
      "[Open3D INFO]     [/]          : Increase/decrease field of view.\n",
      "[Open3D INFO]     R            : Reset view point.\n",
      "[Open3D INFO]     Ctrl/Cmd + C : Copy current view status into the clipboard.\n",
      "[Open3D INFO]     Ctrl/Cmd + V : Paste view status from clipboard.\n",
      "[Open3D INFO] \n",
      "[Open3D INFO]   -- General control --\n",
      "[Open3D INFO]     Q, Esc       : Exit window.\n",
      "[Open3D INFO]     H            : Print help message.\n",
      "[Open3D INFO]     P, PrtScn    : Take a screen capture.\n",
      "[Open3D INFO]     D            : Take a depth capture.\n",
      "[Open3D INFO]     O            : Take a capture of current rendering settings.\n",
      "[Open3D INFO]     Alt + Enter  : Toggle between full screen and windowed mode.\n",
      "[Open3D INFO] \n",
      "[Open3D INFO]   -- Render mode control --\n",
      "[Open3D INFO]     L            : Turn on/off lighting.\n",
      "[Open3D INFO]     +/-          : Increase/decrease point size.\n",
      "[Open3D INFO]     Ctrl + +/-   : Increase/decrease width of geometry::LineSet.\n",
      "[Open3D INFO]     N            : Turn on/off point cloud normal rendering.\n",
      "[Open3D INFO]     S            : Toggle between mesh flat shading and smooth shading.\n",
      "[Open3D INFO]     W            : Turn on/off mesh wireframe.\n",
      "[Open3D INFO]     B            : Turn on/off back face rendering.\n",
      "[Open3D INFO]     I            : Turn on/off image zoom in interpolation.\n",
      "[Open3D INFO]     T            : Toggle among image render:\n",
      "[Open3D INFO]                    no stretch / keep ratio / freely stretch.\n",
      "[Open3D INFO] \n",
      "[Open3D INFO]   -- Color control --\n",
      "[Open3D INFO]     0..4,9       : Set point cloud color option.\n",
      "[Open3D INFO]                    0 - Default behavior, render point color.\n",
      "[Open3D INFO]                    1 - Render point color.\n",
      "[Open3D INFO]                    2 - x coordinate as color.\n",
      "[Open3D INFO]                    3 - y coordinate as color.\n",
      "[Open3D INFO]                    4 - z coordinate as color.\n",
      "[Open3D INFO]                    9 - normal as color.\n",
      "[Open3D INFO]     Ctrl + 0..4,9: Set mesh color option.\n",
      "[Open3D INFO]                    0 - Default behavior, render uniform gray color.\n",
      "[Open3D INFO]                    1 - Render point color.\n",
      "[Open3D INFO]                    2 - x coordinate as color.\n",
      "[Open3D INFO]                    3 - y coordinate as color.\n",
      "[Open3D INFO]                    4 - z coordinate as color.\n",
      "[Open3D INFO]                    9 - normal as color.\n",
      "[Open3D INFO]     Shift + 0..4 : Color map options.\n",
      "[Open3D INFO]                    0 - Gray scale color.\n",
      "[Open3D INFO]                    1 - JET color map.\n",
      "[Open3D INFO]                    2 - SUMMER color map.\n",
      "[Open3D INFO]                    3 - WINTER color map.\n",
      "[Open3D INFO]                    4 - HOT color map.\n",
      "[Open3D INFO] \n",
      "[Open3D INFO]   -- Mouse view control --\n",
      "[Open3D INFO]     Left button + drag         : Rotate.\n",
      "[Open3D INFO]     Ctrl + left button + drag  : Translate.\n",
      "[Open3D INFO]     Wheel button + drag        : Translate.\n",
      "[Open3D INFO]     Shift + left button + drag : Roll.\n",
      "[Open3D INFO]     Wheel                      : Zoom in/out.\n",
      "[Open3D INFO] \n",
      "[Open3D INFO]   -- Keyboard view control --\n",
      "[Open3D INFO]     [/]          : Increase/decrease field of view.\n",
      "[Open3D INFO]     R            : Reset view point.\n",
      "[Open3D INFO]     Ctrl/Cmd + C : Copy current view status into the clipboard.\n",
      "[Open3D INFO]     Ctrl/Cmd + V : Paste view status from clipboard.\n",
      "[Open3D INFO] \n",
      "[Open3D INFO]   -- General control --\n",
      "[Open3D INFO]     Q, Esc       : Exit window.\n",
      "[Open3D INFO]     H            : Print help message.\n",
      "[Open3D INFO]     P, PrtScn    : Take a screen capture.\n",
      "[Open3D INFO]     D            : Take a depth capture.\n",
      "[Open3D INFO]     O            : Take a capture of current rendering settings.\n",
      "[Open3D INFO]     Alt + Enter  : Toggle between full screen and windowed mode.\n",
      "[Open3D INFO] \n",
      "[Open3D INFO]   -- Render mode control --\n",
      "[Open3D INFO]     L            : Turn on/off lighting.\n",
      "[Open3D INFO]     +/-          : Increase/decrease point size.\n",
      "[Open3D INFO]     Ctrl + +/-   : Increase/decrease width of geometry::LineSet.\n",
      "[Open3D INFO]     N            : Turn on/off point cloud normal rendering.\n",
      "[Open3D INFO]     S            : Toggle between mesh flat shading and smooth shading.\n",
      "[Open3D INFO]     W            : Turn on/off mesh wireframe.\n",
      "[Open3D INFO]     B            : Turn on/off back face rendering.\n",
      "[Open3D INFO]     I            : Turn on/off image zoom in interpolation.\n",
      "[Open3D INFO]     T            : Toggle among image render:\n",
      "[Open3D INFO]                    no stretch / keep ratio / freely stretch.\n",
      "[Open3D INFO] \n",
      "[Open3D INFO]   -- Color control --\n",
      "[Open3D INFO]     0..4,9       : Set point cloud color option.\n",
      "[Open3D INFO]                    0 - Default behavior, render point color.\n",
      "[Open3D INFO]                    1 - Render point color.\n",
      "[Open3D INFO]                    2 - x coordinate as color.\n",
      "[Open3D INFO]                    3 - y coordinate as color.\n",
      "[Open3D INFO]                    4 - z coordinate as color.\n",
      "[Open3D INFO]                    9 - normal as color.\n",
      "[Open3D INFO]     Ctrl + 0..4,9: Set mesh color option.\n",
      "[Open3D INFO]                    0 - Default behavior, render uniform gray color.\n",
      "[Open3D INFO]                    1 - Render point color.\n",
      "[Open3D INFO]                    2 - x coordinate as color.\n",
      "[Open3D INFO]                    3 - y coordinate as color.\n",
      "[Open3D INFO]                    4 - z coordinate as color.\n",
      "[Open3D INFO]                    9 - normal as color.\n",
      "[Open3D INFO]     Shift + 0..4 : Color map options.\n",
      "[Open3D INFO]                    0 - Gray scale color.\n",
      "[Open3D INFO]                    1 - JET color map.\n",
      "[Open3D INFO]                    2 - SUMMER color map.\n",
      "[Open3D INFO]                    3 - WINTER color map.\n",
      "[Open3D INFO]                    4 - HOT color map.\n",
      "[Open3D INFO] \n",
      "[Open3D INFO]   -- Mouse view control --\n",
      "[Open3D INFO]     Left button + drag         : Rotate.\n",
      "[Open3D INFO]     Ctrl + left button + drag  : Translate.\n",
      "[Open3D INFO]     Wheel button + drag        : Translate.\n",
      "[Open3D INFO]     Shift + left button + drag : Roll.\n",
      "[Open3D INFO]     Wheel                      : Zoom in/out.\n",
      "[Open3D INFO] \n",
      "[Open3D INFO]   -- Keyboard view control --\n",
      "[Open3D INFO]     [/]          : Increase/decrease field of view.\n",
      "[Open3D INFO]     R            : Reset view point.\n",
      "[Open3D INFO]     Ctrl/Cmd + C : Copy current view status into the clipboard.\n",
      "[Open3D INFO]     Ctrl/Cmd + V : Paste view status from clipboard.\n",
      "[Open3D INFO] \n",
      "[Open3D INFO]   -- General control --\n",
      "[Open3D INFO]     Q, Esc       : Exit window.\n",
      "[Open3D INFO]     H            : Print help message.\n",
      "[Open3D INFO]     P, PrtScn    : Take a screen capture.\n",
      "[Open3D INFO]     D            : Take a depth capture.\n",
      "[Open3D INFO]     O            : Take a capture of current rendering settings.\n",
      "[Open3D INFO]     Alt + Enter  : Toggle between full screen and windowed mode.\n",
      "[Open3D INFO] \n",
      "[Open3D INFO]   -- Render mode control --\n",
      "[Open3D INFO]     L            : Turn on/off lighting.\n",
      "[Open3D INFO]     +/-          : Increase/decrease point size.\n",
      "[Open3D INFO]     Ctrl + +/-   : Increase/decrease width of geometry::LineSet.\n",
      "[Open3D INFO]     N            : Turn on/off point cloud normal rendering.\n",
      "[Open3D INFO]     S            : Toggle between mesh flat shading and smooth shading.\n",
      "[Open3D INFO]     W            : Turn on/off mesh wireframe.\n",
      "[Open3D INFO]     B            : Turn on/off back face rendering.\n",
      "[Open3D INFO]     I            : Turn on/off image zoom in interpolation.\n",
      "[Open3D INFO]     T            : Toggle among image render:\n",
      "[Open3D INFO]                    no stretch / keep ratio / freely stretch.\n",
      "[Open3D INFO] \n",
      "[Open3D INFO]   -- Color control --\n",
      "[Open3D INFO]     0..4,9       : Set point cloud color option.\n",
      "[Open3D INFO]                    0 - Default behavior, render point color.\n",
      "[Open3D INFO]                    1 - Render point color.\n",
      "[Open3D INFO]                    2 - x coordinate as color.\n",
      "[Open3D INFO]                    3 - y coordinate as color.\n",
      "[Open3D INFO]                    4 - z coordinate as color.\n",
      "[Open3D INFO]                    9 - normal as color.\n",
      "[Open3D INFO]     Ctrl + 0..4,9: Set mesh color option.\n",
      "[Open3D INFO]                    0 - Default behavior, render uniform gray color.\n",
      "[Open3D INFO]                    1 - Render point color.\n",
      "[Open3D INFO]                    2 - x coordinate as color.\n",
      "[Open3D INFO]                    3 - y coordinate as color.\n",
      "[Open3D INFO]                    4 - z coordinate as color.\n",
      "[Open3D INFO]                    9 - normal as color.\n",
      "[Open3D INFO]     Shift + 0..4 : Color map options.\n",
      "[Open3D INFO]                    0 - Gray scale color.\n",
      "[Open3D INFO]                    1 - JET color map.\n",
      "[Open3D INFO]                    2 - SUMMER color map.\n",
      "[Open3D INFO]                    3 - WINTER color map.\n",
      "[Open3D INFO]                    4 - HOT color map.\n",
      "[Open3D INFO] \n"
     ]
    },
    {
     "name": "stdout",
     "output_type": "stream",
     "text": [
      "[Open3D INFO]   -- Mouse view control --\n",
      "[Open3D INFO]     Left button + drag         : Rotate.\n",
      "[Open3D INFO]     Ctrl + left button + drag  : Translate.\n",
      "[Open3D INFO]     Wheel button + drag        : Translate.\n",
      "[Open3D INFO]     Shift + left button + drag : Roll.\n",
      "[Open3D INFO]     Wheel                      : Zoom in/out.\n",
      "[Open3D INFO] \n",
      "[Open3D INFO]   -- Keyboard view control --\n",
      "[Open3D INFO]     [/]          : Increase/decrease field of view.\n",
      "[Open3D INFO]     R            : Reset view point.\n",
      "[Open3D INFO]     Ctrl/Cmd + C : Copy current view status into the clipboard.\n",
      "[Open3D INFO]     Ctrl/Cmd + V : Paste view status from clipboard.\n",
      "[Open3D INFO] \n",
      "[Open3D INFO]   -- General control --\n",
      "[Open3D INFO]     Q, Esc       : Exit window.\n",
      "[Open3D INFO]     H            : Print help message.\n",
      "[Open3D INFO]     P, PrtScn    : Take a screen capture.\n",
      "[Open3D INFO]     D            : Take a depth capture.\n",
      "[Open3D INFO]     O            : Take a capture of current rendering settings.\n",
      "[Open3D INFO]     Alt + Enter  : Toggle between full screen and windowed mode.\n",
      "[Open3D INFO] \n",
      "[Open3D INFO]   -- Render mode control --\n",
      "[Open3D INFO]     L            : Turn on/off lighting.\n",
      "[Open3D INFO]     +/-          : Increase/decrease point size.\n",
      "[Open3D INFO]     Ctrl + +/-   : Increase/decrease width of geometry::LineSet.\n",
      "[Open3D INFO]     N            : Turn on/off point cloud normal rendering.\n",
      "[Open3D INFO]     S            : Toggle between mesh flat shading and smooth shading.\n",
      "[Open3D INFO]     W            : Turn on/off mesh wireframe.\n",
      "[Open3D INFO]     B            : Turn on/off back face rendering.\n",
      "[Open3D INFO]     I            : Turn on/off image zoom in interpolation.\n",
      "[Open3D INFO]     T            : Toggle among image render:\n",
      "[Open3D INFO]                    no stretch / keep ratio / freely stretch.\n",
      "[Open3D INFO] \n",
      "[Open3D INFO]   -- Color control --\n",
      "[Open3D INFO]     0..4,9       : Set point cloud color option.\n",
      "[Open3D INFO]                    0 - Default behavior, render point color.\n",
      "[Open3D INFO]                    1 - Render point color.\n",
      "[Open3D INFO]                    2 - x coordinate as color.\n",
      "[Open3D INFO]                    3 - y coordinate as color.\n",
      "[Open3D INFO]                    4 - z coordinate as color.\n",
      "[Open3D INFO]                    9 - normal as color.\n",
      "[Open3D INFO]     Ctrl + 0..4,9: Set mesh color option.\n",
      "[Open3D INFO]                    0 - Default behavior, render uniform gray color.\n",
      "[Open3D INFO]                    1 - Render point color.\n",
      "[Open3D INFO]                    2 - x coordinate as color.\n",
      "[Open3D INFO]                    3 - y coordinate as color.\n",
      "[Open3D INFO]                    4 - z coordinate as color.\n",
      "[Open3D INFO]                    9 - normal as color.\n",
      "[Open3D INFO]     Shift + 0..4 : Color map options.\n",
      "[Open3D INFO]                    0 - Gray scale color.\n",
      "[Open3D INFO]                    1 - JET color map.\n",
      "[Open3D INFO]                    2 - SUMMER color map.\n",
      "[Open3D INFO]                    3 - WINTER color map.\n",
      "[Open3D INFO]                    4 - HOT color map.\n",
      "[Open3D INFO] \n",
      "[Open3D INFO]   -- Mouse view control --\n",
      "[Open3D INFO]     Left button + drag         : Rotate.\n",
      "[Open3D INFO]     Ctrl + left button + drag  : Translate.\n",
      "[Open3D INFO]     Wheel button + drag        : Translate.\n",
      "[Open3D INFO]     Shift + left button + drag : Roll.\n",
      "[Open3D INFO]     Wheel                      : Zoom in/out.\n",
      "[Open3D INFO] \n",
      "[Open3D INFO]   -- Keyboard view control --\n",
      "[Open3D INFO]     [/]          : Increase/decrease field of view.\n",
      "[Open3D INFO]     R            : Reset view point.\n",
      "[Open3D INFO]     Ctrl/Cmd + C : Copy current view status into the clipboard.\n",
      "[Open3D INFO]     Ctrl/Cmd + V : Paste view status from clipboard.\n",
      "[Open3D INFO] \n",
      "[Open3D INFO]   -- General control --\n",
      "[Open3D INFO]     Q, Esc       : Exit window.\n",
      "[Open3D INFO]     H            : Print help message.\n",
      "[Open3D INFO]     P, PrtScn    : Take a screen capture.\n",
      "[Open3D INFO]     D            : Take a depth capture.\n",
      "[Open3D INFO]     O            : Take a capture of current rendering settings.\n",
      "[Open3D INFO]     Alt + Enter  : Toggle between full screen and windowed mode.\n",
      "[Open3D INFO] \n",
      "[Open3D INFO]   -- Render mode control --\n",
      "[Open3D INFO]     L            : Turn on/off lighting.\n",
      "[Open3D INFO]     +/-          : Increase/decrease point size.\n",
      "[Open3D INFO]     Ctrl + +/-   : Increase/decrease width of geometry::LineSet.\n",
      "[Open3D INFO]     N            : Turn on/off point cloud normal rendering.\n",
      "[Open3D INFO]     S            : Toggle between mesh flat shading and smooth shading.\n",
      "[Open3D INFO]     W            : Turn on/off mesh wireframe.\n",
      "[Open3D INFO]     B            : Turn on/off back face rendering.\n",
      "[Open3D INFO]     I            : Turn on/off image zoom in interpolation.\n",
      "[Open3D INFO]     T            : Toggle among image render:\n",
      "[Open3D INFO]                    no stretch / keep ratio / freely stretch.\n",
      "[Open3D INFO] \n",
      "[Open3D INFO]   -- Color control --\n",
      "[Open3D INFO]     0..4,9       : Set point cloud color option.\n",
      "[Open3D INFO]                    0 - Default behavior, render point color.\n",
      "[Open3D INFO]                    1 - Render point color.\n",
      "[Open3D INFO]                    2 - x coordinate as color.\n",
      "[Open3D INFO]                    3 - y coordinate as color.\n",
      "[Open3D INFO]                    4 - z coordinate as color.\n",
      "[Open3D INFO]                    9 - normal as color.\n",
      "[Open3D INFO]     Ctrl + 0..4,9: Set mesh color option.\n",
      "[Open3D INFO]                    0 - Default behavior, render uniform gray color.\n",
      "[Open3D INFO]                    1 - Render point color.\n",
      "[Open3D INFO]                    2 - x coordinate as color.\n",
      "[Open3D INFO]                    3 - y coordinate as color.\n",
      "[Open3D INFO]                    4 - z coordinate as color.\n",
      "[Open3D INFO]                    9 - normal as color.\n",
      "[Open3D INFO]     Shift + 0..4 : Color map options.\n",
      "[Open3D INFO]                    0 - Gray scale color.\n",
      "[Open3D INFO]                    1 - JET color map.\n",
      "[Open3D INFO]                    2 - SUMMER color map.\n",
      "[Open3D INFO]                    3 - WINTER color map.\n",
      "[Open3D INFO]                    4 - HOT color map.\n",
      "[Open3D INFO] \n"
     ]
    }
   ],
   "source": [
    "import copy\n",
    "\n",
    "# 此为原始点云\n",
    "pcd0 = o3d.io.read_point_cloud(\"rabbit.pcd\")\n",
    "\n",
    "\n",
    "# 此行代码后面不再重复引入\n",
    "import open3d as o3d\n",
    "pcd = o3d.io.read_point_cloud(\"rabbit.pcd\")\n",
    "o3d.visualization.draw_geometries([pcd])"
   ]
  },
  {
   "cell_type": "code",
   "execution_count": 19,
   "id": "87555451",
   "metadata": {},
   "outputs": [],
   "source": [
    "# 1号点云，沿x轴移动20米\n",
    "pcd1 = copy.deepcopy(pcd0).translate((20, 0, 0))\n",
    "pcd1.paint_uniform_color([1, 0, 0])  #设为红色，100 表示rgb\n",
    "\n",
    "# 2号点云，演示缩放\n",
    "pcd2 = copy.deepcopy(pcd0).translate((40, 0, 0))\n",
    "# 前一个参数为缩放比例；后一个参数为缩放后的位置，为必填项\n",
    "pcd2.scale(0.5, center=pcd2.get_center())\n",
    "pcd2.paint_uniform_color([0, 1, 1])\n",
    "\n",
    "# 3号点云，通过欧拉角旋转\n",
    "pcd3 = copy.deepcopy(pcd0).translate((0, -20, 0))\n",
    "# 采用Euler角的方法生成旋转角，表示绕y轴旋转90°\n",
    "thEuler = pcd3.get_rotation_matrix_from_xyz((0,np.pi/2,0))\n",
    "pcd3.rotate(thEuler)\n",
    "pcd3.paint_uniform_color([0, 1, 0])\n",
    "\n",
    "# 4号点云，通过轴角法旋转\n",
    "pcd4 = copy.deepcopy(pcd0).translate((20, -20, 0))\n",
    "# 通过轴角表示法生成旋转角，表示绕y轴旋转60°\n",
    "th = np.array([0, np.pi/3, 0]).T\n",
    "thAxis = pcd4.get_rotation_matrix_from_axis_angle(th)\n",
    "pcd4.rotate(thAxis)\n",
    "pcd4.paint_uniform_color([0, 0, 1])\n",
    "\n",
    "# 5号点云，通过四元数旋转\n",
    "pcd5 = copy.deepcopy(pcd0).translate((40, -20, 0))\n",
    "# 通过四元数法生成转角，表示绕x轴旋转180°\n",
    "quart = np.array([0,0,0,1]).T\n",
    "thQuart = pcd5.get_rotation_matrix_from_quaternion(quart)\n",
    "pcd5.rotate(thQuart)\n",
    "pcd5.paint_uniform_color([1, 0, 1])\n",
    "\n",
    "# 5绘图函数可以输入点云列表\n",
    "o3d.visualization.draw_geometries([pcd1])\n",
    "o3d.visualization.draw_geometries([pcd2])\n",
    "o3d.visualization.draw_geometries([pcd3])\n",
    "o3d.visualization.draw_geometries([pcd4])\n",
    "o3d.visualization.draw_geometries([pcd5])"
   ]
  },
  {
   "cell_type": "code",
   "execution_count": 21,
   "id": "b5b82518",
   "metadata": {},
   "outputs": [],
   "source": [
    "#曲面重建\n",
    "tri = o3d.geometry.TriangleMesh\n",
    "pcd = o3d.io.read_point_cloud(\"rabbit.pcd\")\n",
    "meshes = []\n",
    "alpha = 0\n",
    "for i in range(4):\n",
    "    alpha += 0.3\n",
    "    tmpPcd = copy.deepcopy(pcd0).translate((i*20, 0, 0))\n",
    "    mesh = tri.create_from_point_cloud_alpha_shape(tmpPcd, alpha)\n",
    "    mesh.compute_vertex_normals()\n",
    "    meshes.append(mesh)\n",
    "\n",
    "o3d.visualization.draw_geometries(meshes, mesh_show_back_face=True)"
   ]
  }
 ],
 "metadata": {
  "kernelspec": {
   "display_name": "Python 3 (ipykernel)",
   "language": "python",
   "name": "python3"
  },
  "language_info": {
   "codemirror_mode": {
    "name": "ipython",
    "version": 3
   },
   "file_extension": ".py",
   "mimetype": "text/x-python",
   "name": "python",
   "nbconvert_exporter": "python",
   "pygments_lexer": "ipython3",
   "version": "3.8.13"
  }
 },
 "nbformat": 4,
 "nbformat_minor": 5
}
